{
 "cells": [
  {
   "cell_type": "code",
   "execution_count": 1,
   "metadata": {},
   "outputs": [],
   "source": [
    "# Importing libraries\n",
    "import pandas as pd                  # Pandas\n",
    "import numpy as np                   # Numpy\n"
   ]
  },
  {
   "cell_type": "code",
   "execution_count": 17,
   "metadata": {},
   "outputs": [],
   "source": [
    "from matplotlib import pyplot as plt # Matplotlib\n",
    "\n",
    "# Package to implement Decision Tree Model\n",
    "import sklearn\n",
    "from sklearn.tree import DecisionTreeRegressor\n",
    "from sklearn.ensemble import RandomForestRegressor\n",
    "\n",
    "# Package for data partitioning\n",
    "from sklearn.model_selection import train_test_split\n",
    "\n",
    "# Package to visualize Decision Tree\n",
    "from sklearn import tree\n",
    "\n",
    "# Import packages to implement Stratified K-fold CV\n",
    "from sklearn.model_selection import KFold # For creating folds\n",
    "\n",
    "# Import Package to implement GridSearch CV (Hyperparameter Tuning Method 1)\n",
    "from sklearn.model_selection import GridSearchCV\n",
    "\n",
    "# Importing package for Randomized Search CV (Hyperparameter Tuning Method 2)\n",
    "from sklearn.model_selection import RandomizedSearchCV\n",
    "\n"
   ]
  },
  {
   "cell_type": "code",
   "execution_count": 5,
   "metadata": {},
   "outputs": [
    {
     "data": {
      "text/html": [
       "<div>\n",
       "<style scoped>\n",
       "    .dataframe tbody tr th:only-of-type {\n",
       "        vertical-align: middle;\n",
       "    }\n",
       "\n",
       "    .dataframe tbody tr th {\n",
       "        vertical-align: top;\n",
       "    }\n",
       "\n",
       "    .dataframe thead th {\n",
       "        text-align: right;\n",
       "    }\n",
       "</style>\n",
       "<table border=\"1\" class=\"dataframe\">\n",
       "  <thead>\n",
       "    <tr style=\"text-align: right;\">\n",
       "      <th></th>\n",
       "      <th>DisNo.</th>\n",
       "      <th>Historic</th>\n",
       "      <th>Classification Key</th>\n",
       "      <th>Disaster Group</th>\n",
       "      <th>Disaster Subgroup</th>\n",
       "      <th>Disaster Type</th>\n",
       "      <th>Disaster Subtype</th>\n",
       "      <th>External IDs</th>\n",
       "      <th>Event Name</th>\n",
       "      <th>ISO</th>\n",
       "      <th>...</th>\n",
       "      <th>Reconstruction Costs ('000 US$)</th>\n",
       "      <th>Reconstruction Costs, Adjusted ('000 US$)</th>\n",
       "      <th>Insured Damage ('000 US$)</th>\n",
       "      <th>Insured Damage, Adjusted ('000 US$)</th>\n",
       "      <th>Total Damage ('000 US$)</th>\n",
       "      <th>Total Damage, Adjusted ('000 US$)</th>\n",
       "      <th>CPI</th>\n",
       "      <th>Admin Units</th>\n",
       "      <th>Entry Date</th>\n",
       "      <th>Last Update</th>\n",
       "    </tr>\n",
       "  </thead>\n",
       "  <tbody>\n",
       "    <tr>\n",
       "      <th>0</th>\n",
       "      <td>1999-9388-DJI</td>\n",
       "      <td>No</td>\n",
       "      <td>nat-cli-dro-dro</td>\n",
       "      <td>Natural</td>\n",
       "      <td>Climatological</td>\n",
       "      <td>Drought</td>\n",
       "      <td>Drought</td>\n",
       "      <td>NaN</td>\n",
       "      <td>NaN</td>\n",
       "      <td>DJI</td>\n",
       "      <td>...</td>\n",
       "      <td>NaN</td>\n",
       "      <td>NaN</td>\n",
       "      <td>NaN</td>\n",
       "      <td>NaN</td>\n",
       "      <td>NaN</td>\n",
       "      <td>NaN</td>\n",
       "      <td>60.503579</td>\n",
       "      <td>[{\"adm1_code\":1093,\"adm1_name\":\"Ali Sabieh\"},{...</td>\n",
       "      <td>2006-03-01</td>\n",
       "      <td>2023-09-25</td>\n",
       "    </tr>\n",
       "    <tr>\n",
       "      <th>1</th>\n",
       "      <td>1999-9388-SDN</td>\n",
       "      <td>No</td>\n",
       "      <td>nat-cli-dro-dro</td>\n",
       "      <td>Natural</td>\n",
       "      <td>Climatological</td>\n",
       "      <td>Drought</td>\n",
       "      <td>Drought</td>\n",
       "      <td>NaN</td>\n",
       "      <td>NaN</td>\n",
       "      <td>SDN</td>\n",
       "      <td>...</td>\n",
       "      <td>NaN</td>\n",
       "      <td>NaN</td>\n",
       "      <td>NaN</td>\n",
       "      <td>NaN</td>\n",
       "      <td>NaN</td>\n",
       "      <td>NaN</td>\n",
       "      <td>58.840648</td>\n",
       "      <td>[{\"adm1_code\":2757,\"adm1_name\":\"Northern Darfu...</td>\n",
       "      <td>2006-03-08</td>\n",
       "      <td>2023-09-25</td>\n",
       "    </tr>\n",
       "    <tr>\n",
       "      <th>2</th>\n",
       "      <td>1999-9388-SOM</td>\n",
       "      <td>No</td>\n",
       "      <td>nat-cli-dro-dro</td>\n",
       "      <td>Natural</td>\n",
       "      <td>Climatological</td>\n",
       "      <td>Drought</td>\n",
       "      <td>Drought</td>\n",
       "      <td>NaN</td>\n",
       "      <td>NaN</td>\n",
       "      <td>SOM</td>\n",
       "      <td>...</td>\n",
       "      <td>NaN</td>\n",
       "      <td>NaN</td>\n",
       "      <td>NaN</td>\n",
       "      <td>NaN</td>\n",
       "      <td>NaN</td>\n",
       "      <td>NaN</td>\n",
       "      <td>58.840648</td>\n",
       "      <td>[{\"adm1_code\":2691,\"adm1_name\":\"Bay\"},{\"adm1_c...</td>\n",
       "      <td>2006-03-08</td>\n",
       "      <td>2023-09-25</td>\n",
       "    </tr>\n",
       "    <tr>\n",
       "      <th>3</th>\n",
       "      <td>2000-0001-AGO</td>\n",
       "      <td>No</td>\n",
       "      <td>tec-tra-roa-roa</td>\n",
       "      <td>Technological</td>\n",
       "      <td>Transport</td>\n",
       "      <td>Road</td>\n",
       "      <td>Road</td>\n",
       "      <td>NaN</td>\n",
       "      <td>NaN</td>\n",
       "      <td>AGO</td>\n",
       "      <td>...</td>\n",
       "      <td>NaN</td>\n",
       "      <td>NaN</td>\n",
       "      <td>NaN</td>\n",
       "      <td>NaN</td>\n",
       "      <td>NaN</td>\n",
       "      <td>NaN</td>\n",
       "      <td>58.840648</td>\n",
       "      <td>NaN</td>\n",
       "      <td>2004-10-27</td>\n",
       "      <td>2023-09-25</td>\n",
       "    </tr>\n",
       "    <tr>\n",
       "      <th>4</th>\n",
       "      <td>2000-0002-AGO</td>\n",
       "      <td>No</td>\n",
       "      <td>nat-hyd-flo-riv</td>\n",
       "      <td>Natural</td>\n",
       "      <td>Hydrological</td>\n",
       "      <td>Flood</td>\n",
       "      <td>Riverine flood</td>\n",
       "      <td>NaN</td>\n",
       "      <td>NaN</td>\n",
       "      <td>AGO</td>\n",
       "      <td>...</td>\n",
       "      <td>NaN</td>\n",
       "      <td>NaN</td>\n",
       "      <td>NaN</td>\n",
       "      <td>NaN</td>\n",
       "      <td>10000.0</td>\n",
       "      <td>16995.0</td>\n",
       "      <td>58.840648</td>\n",
       "      <td>[{\"adm2_code\":4214,\"adm2_name\":\"Baia Farta\"},{...</td>\n",
       "      <td>2005-02-03</td>\n",
       "      <td>2023-09-25</td>\n",
       "    </tr>\n",
       "  </tbody>\n",
       "</table>\n",
       "<p>5 rows × 46 columns</p>\n",
       "</div>"
      ],
      "text/plain": [
       "          DisNo. Historic Classification Key Disaster Group Disaster Subgroup  \\\n",
       "0  1999-9388-DJI       No    nat-cli-dro-dro        Natural    Climatological   \n",
       "1  1999-9388-SDN       No    nat-cli-dro-dro        Natural    Climatological   \n",
       "2  1999-9388-SOM       No    nat-cli-dro-dro        Natural    Climatological   \n",
       "3  2000-0001-AGO       No    tec-tra-roa-roa  Technological         Transport   \n",
       "4  2000-0002-AGO       No    nat-hyd-flo-riv        Natural      Hydrological   \n",
       "\n",
       "  Disaster Type Disaster Subtype External IDs Event Name  ISO  ...  \\\n",
       "0       Drought          Drought          NaN        NaN  DJI  ...   \n",
       "1       Drought          Drought          NaN        NaN  SDN  ...   \n",
       "2       Drought          Drought          NaN        NaN  SOM  ...   \n",
       "3          Road             Road          NaN        NaN  AGO  ...   \n",
       "4         Flood   Riverine flood          NaN        NaN  AGO  ...   \n",
       "\n",
       "  Reconstruction Costs ('000 US$) Reconstruction Costs, Adjusted ('000 US$)  \\\n",
       "0                             NaN                                       NaN   \n",
       "1                             NaN                                       NaN   \n",
       "2                             NaN                                       NaN   \n",
       "3                             NaN                                       NaN   \n",
       "4                             NaN                                       NaN   \n",
       "\n",
       "  Insured Damage ('000 US$) Insured Damage, Adjusted ('000 US$)  \\\n",
       "0                       NaN                                 NaN   \n",
       "1                       NaN                                 NaN   \n",
       "2                       NaN                                 NaN   \n",
       "3                       NaN                                 NaN   \n",
       "4                       NaN                                 NaN   \n",
       "\n",
       "  Total Damage ('000 US$) Total Damage, Adjusted ('000 US$)        CPI  \\\n",
       "0                     NaN                               NaN  60.503579   \n",
       "1                     NaN                               NaN  58.840648   \n",
       "2                     NaN                               NaN  58.840648   \n",
       "3                     NaN                               NaN  58.840648   \n",
       "4                 10000.0                           16995.0  58.840648   \n",
       "\n",
       "                                         Admin Units  Entry Date  Last Update  \n",
       "0  [{\"adm1_code\":1093,\"adm1_name\":\"Ali Sabieh\"},{...  2006-03-01   2023-09-25  \n",
       "1  [{\"adm1_code\":2757,\"adm1_name\":\"Northern Darfu...  2006-03-08   2023-09-25  \n",
       "2  [{\"adm1_code\":2691,\"adm1_name\":\"Bay\"},{\"adm1_c...  2006-03-08   2023-09-25  \n",
       "3                                                NaN  2004-10-27   2023-09-25  \n",
       "4  [{\"adm2_code\":4214,\"adm2_name\":\"Baia Farta\"},{...  2005-02-03   2023-09-25  \n",
       "\n",
       "[5 rows x 46 columns]"
      ]
     },
     "execution_count": 5,
     "metadata": {},
     "output_type": "execute_result"
    }
   ],
   "source": [
    "# Load dataset as dataframe\n",
    "emdat_df = pd.read_excel('public_emdat_2023-10-26.xlsx')\n",
    "emdat_df.head()\n"
   ]
  },
  {
   "cell_type": "markdown",
   "metadata": {},
   "source": [
    "# Project Overview\n",
    "\n",
    "First, subset by 'Disaster Type'\n",
    "\n",
    "Predict Total Affected from    earthquake, drought, flood, fire\n",
    "- ISO (country)\n",
    "    - if earthquake or volcano, can use lat/long\n",
    "- Magnitude (must first subset by Disaster Type)\n",
    "- Disaster Subtype\n",
    "- OFDA Response\n",
    "- Appeal\n",
    "- Declaration\n",
    "- AID Contribution (\\'000 US$)\n",
    "- (length of time for fire, drought, flood)\n"
   ]
  },
  {
   "cell_type": "markdown",
   "metadata": {},
   "source": [
    "## Subset Earthquakes for Analysis Exploration"
   ]
  },
  {
   "cell_type": "code",
   "execution_count": 29,
   "metadata": {},
   "outputs": [
    {
     "data": {
      "text/plain": [
       "(628, 6)"
      ]
     },
     "execution_count": 29,
     "metadata": {},
     "output_type": "execute_result"
    }
   ],
   "source": [
    "df = emdat_df[emdat_df['Disaster Type'] == \"Earthquake\"]\n",
    "df = df[['ISO', 'Magnitude', 'Disaster Subtype', 'OFDA Response', 'Appeal', 'Declaration', 'Total Affected']]\n",
    "\n",
    "df.head()\n",
    "df.dropna(inplace=True)\n",
    "df.shape"
   ]
  },
  {
   "cell_type": "markdown",
   "metadata": {},
   "source": [
    "## Hyperparameter Tuning DT"
   ]
  },
  {
   "cell_type": "code",
   "execution_count": 31,
   "metadata": {},
   "outputs": [],
   "source": [
    "# set target variable\n",
    "X = df.drop(columns = ['Total Affected'])\n",
    "y = df['Total Affected']\n",
    "\n",
    "# encode categorical variables\n",
    "cat_var = ['ISO', 'Disaster Subtype', 'OFDA Response', 'Appeal', 'Declaration']\n",
    "X_encoded = pd.get_dummies(X, columns = cat_var)\n",
    "\n",
    "# split train/test dataset\n",
    "train_X, test_X, train_y, test_y = train_test_split(X_encoded, y, test_size = 0.3, random_state = 1)\n"
   ]
  },
  {
   "cell_type": "code",
   "execution_count": 32,
   "metadata": {},
   "outputs": [],
   "source": [
    "# define model\n",
    "regressor = DecisionTreeRegressor(random_state = 42)\n",
    "\n",
    "# Creating folds \n",
    "folds = KFold(n_splits = 3, shuffle = True, random_state = 100)\n",
    "\n",
    "# Start with an initial guess for parameters\n",
    "hyper_params = {\n",
    "    'max_depth': [2, 5, 10, 20],\n",
    "    'min_samples_split': [2, 5, 10, 50],\n",
    "    'min_samples_leaf': [20, 80, 100, 150]\n",
    "}\n",
    "\n",
    "# Call GridSearchCV()\n",
    "model_cv = GridSearchCV(estimator = regressor,     # algorithm\n",
    "                        param_grid = hyper_params,  # ranges for hyperparameters\n",
    "                        scoring = 'r2',    # metric choice for scoring/evaluation ('r2' for regression)\n",
    "                        cv = folds,                 # specify cv folds\n",
    "                        verbose = 1,                # specify how much info you want about experiments\n",
    "                        n_jobs = -1) # Will utilize all available CPUs (can specify # of core processors to use, or -1 to use all)\n",
    "                                        # if you're running other apps in background, don't use -1"
   ]
  },
  {
   "cell_type": "code",
   "execution_count": 33,
   "metadata": {},
   "outputs": [
    {
     "name": "stdout",
     "output_type": "stream",
     "text": [
      "Fitting 3 folds for each of 64 candidates, totalling 192 fits\n",
      "Initial score:  -0.04525677003409393\n",
      "Initial parameters:  {'max_depth': 2, 'min_samples_leaf': 150, 'min_samples_split': 2}\n"
     ]
    }
   ],
   "source": [
    "# Fit the model\n",
    "model_cv.fit(train_X, train_y)\n",
    "\n",
    "# Return the performance metric score\n",
    "print('Initial score: ', model_cv.best_score_)\n",
    "\n",
    "# Return set of parameters with the best performance\n",
    "print('Initial parameters: ', model_cv.best_params_)"
   ]
  },
  {
   "cell_type": "markdown",
   "metadata": {},
   "source": [
    "## Most Basic DT w/o Hyperparameter"
   ]
  },
  {
   "cell_type": "code",
   "execution_count": null,
   "metadata": {},
   "outputs": [],
   "source": [
    "# Defining prediction model\n",
    "clf = DecisionTreeRegressor(random_state = 0)\n",
    "\n",
    "# Fitting model on training data\n",
    "clf.fit(train_X, train_y)"
   ]
  },
  {
   "cell_type": "code",
   "execution_count": 21,
   "metadata": {},
   "outputs": [
    {
     "data": {
      "text/plain": [
       "-0.796268459183153"
      ]
     },
     "execution_count": 21,
     "metadata": {},
     "output_type": "execute_result"
    }
   ],
   "source": [
    "from sklearn.metrics import r2_score\n",
    "# Predictions on test set\n",
    "y_pred = clf.predict(test_X)\n",
    "# R-2 score using r2_score(y_true, y_pred)\n",
    "r2_score(test_y, y_pred)"
   ]
  },
  {
   "cell_type": "markdown",
   "metadata": {},
   "source": [
    "## Basic RF model"
   ]
  },
  {
   "cell_type": "code",
   "execution_count": 36,
   "metadata": {},
   "outputs": [
    {
     "data": {
      "text/html": [
       "<style>#sk-container-id-2 {color: black;}#sk-container-id-2 pre{padding: 0;}#sk-container-id-2 div.sk-toggleable {background-color: white;}#sk-container-id-2 label.sk-toggleable__label {cursor: pointer;display: block;width: 100%;margin-bottom: 0;padding: 0.3em;box-sizing: border-box;text-align: center;}#sk-container-id-2 label.sk-toggleable__label-arrow:before {content: \"▸\";float: left;margin-right: 0.25em;color: #696969;}#sk-container-id-2 label.sk-toggleable__label-arrow:hover:before {color: black;}#sk-container-id-2 div.sk-estimator:hover label.sk-toggleable__label-arrow:before {color: black;}#sk-container-id-2 div.sk-toggleable__content {max-height: 0;max-width: 0;overflow: hidden;text-align: left;background-color: #f0f8ff;}#sk-container-id-2 div.sk-toggleable__content pre {margin: 0.2em;color: black;border-radius: 0.25em;background-color: #f0f8ff;}#sk-container-id-2 input.sk-toggleable__control:checked~div.sk-toggleable__content {max-height: 200px;max-width: 100%;overflow: auto;}#sk-container-id-2 input.sk-toggleable__control:checked~label.sk-toggleable__label-arrow:before {content: \"▾\";}#sk-container-id-2 div.sk-estimator input.sk-toggleable__control:checked~label.sk-toggleable__label {background-color: #d4ebff;}#sk-container-id-2 div.sk-label input.sk-toggleable__control:checked~label.sk-toggleable__label {background-color: #d4ebff;}#sk-container-id-2 input.sk-hidden--visually {border: 0;clip: rect(1px 1px 1px 1px);clip: rect(1px, 1px, 1px, 1px);height: 1px;margin: -1px;overflow: hidden;padding: 0;position: absolute;width: 1px;}#sk-container-id-2 div.sk-estimator {font-family: monospace;background-color: #f0f8ff;border: 1px dotted black;border-radius: 0.25em;box-sizing: border-box;margin-bottom: 0.5em;}#sk-container-id-2 div.sk-estimator:hover {background-color: #d4ebff;}#sk-container-id-2 div.sk-parallel-item::after {content: \"\";width: 100%;border-bottom: 1px solid gray;flex-grow: 1;}#sk-container-id-2 div.sk-label:hover label.sk-toggleable__label {background-color: #d4ebff;}#sk-container-id-2 div.sk-serial::before {content: \"\";position: absolute;border-left: 1px solid gray;box-sizing: border-box;top: 0;bottom: 0;left: 50%;z-index: 0;}#sk-container-id-2 div.sk-serial {display: flex;flex-direction: column;align-items: center;background-color: white;padding-right: 0.2em;padding-left: 0.2em;position: relative;}#sk-container-id-2 div.sk-item {position: relative;z-index: 1;}#sk-container-id-2 div.sk-parallel {display: flex;align-items: stretch;justify-content: center;background-color: white;position: relative;}#sk-container-id-2 div.sk-item::before, #sk-container-id-2 div.sk-parallel-item::before {content: \"\";position: absolute;border-left: 1px solid gray;box-sizing: border-box;top: 0;bottom: 0;left: 50%;z-index: -1;}#sk-container-id-2 div.sk-parallel-item {display: flex;flex-direction: column;z-index: 1;position: relative;background-color: white;}#sk-container-id-2 div.sk-parallel-item:first-child::after {align-self: flex-end;width: 50%;}#sk-container-id-2 div.sk-parallel-item:last-child::after {align-self: flex-start;width: 50%;}#sk-container-id-2 div.sk-parallel-item:only-child::after {width: 0;}#sk-container-id-2 div.sk-dashed-wrapped {border: 1px dashed gray;margin: 0 0.4em 0.5em 0.4em;box-sizing: border-box;padding-bottom: 0.4em;background-color: white;}#sk-container-id-2 div.sk-label label {font-family: monospace;font-weight: bold;display: inline-block;line-height: 1.2em;}#sk-container-id-2 div.sk-label-container {text-align: center;}#sk-container-id-2 div.sk-container {/* jupyter's `normalize.less` sets `[hidden] { display: none; }` but bootstrap.min.css set `[hidden] { display: none !important; }` so we also need the `!important` here to be able to override the default hidden behavior on the sphinx rendered scikit-learn.org. See: https://github.com/scikit-learn/scikit-learn/issues/21755 */display: inline-block !important;position: relative;}#sk-container-id-2 div.sk-text-repr-fallback {display: none;}</style><div id=\"sk-container-id-2\" class=\"sk-top-container\"><div class=\"sk-text-repr-fallback\"><pre>RandomForestRegressor(random_state=0)</pre><b>In a Jupyter environment, please rerun this cell to show the HTML representation or trust the notebook. <br />On GitHub, the HTML representation is unable to render, please try loading this page with nbviewer.org.</b></div><div class=\"sk-container\" hidden><div class=\"sk-item\"><div class=\"sk-estimator sk-toggleable\"><input class=\"sk-toggleable__control sk-hidden--visually\" id=\"sk-estimator-id-2\" type=\"checkbox\" checked><label for=\"sk-estimator-id-2\" class=\"sk-toggleable__label sk-toggleable__label-arrow\">RandomForestRegressor</label><div class=\"sk-toggleable__content\"><pre>RandomForestRegressor(random_state=0)</pre></div></div></div></div></div>"
      ],
      "text/plain": [
       "RandomForestRegressor(random_state=0)"
      ]
     },
     "execution_count": 36,
     "metadata": {},
     "output_type": "execute_result"
    }
   ],
   "source": [
    "# Defining prediction model\n",
    "clf = RandomForestRegressor(random_state = 0)\n",
    "\n",
    "# Fitting model on training data\n",
    "clf.fit(train_X, train_y)"
   ]
  },
  {
   "cell_type": "code",
   "execution_count": 37,
   "metadata": {},
   "outputs": [
    {
     "data": {
      "text/plain": [
       "-1.1449212115854666"
      ]
     },
     "execution_count": 37,
     "metadata": {},
     "output_type": "execute_result"
    }
   ],
   "source": [
    "from sklearn.metrics import r2_score\n",
    "# Predictions on test set\n",
    "y_pred = clf.predict(test_X)\n",
    "# R-2 score using r2_score(y_true, y_pred)\n",
    "r2_score(test_y, y_pred)"
   ]
  }
 ],
 "metadata": {
  "kernelspec": {
   "display_name": "base",
   "language": "python",
   "name": "python3"
  },
  "language_info": {
   "codemirror_mode": {
    "name": "ipython",
    "version": 3
   },
   "file_extension": ".py",
   "mimetype": "text/x-python",
   "name": "python",
   "nbconvert_exporter": "python",
   "pygments_lexer": "ipython3",
   "version": "3.11.5"
  }
 },
 "nbformat": 4,
 "nbformat_minor": 2
}
